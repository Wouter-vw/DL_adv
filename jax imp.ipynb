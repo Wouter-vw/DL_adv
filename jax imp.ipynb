{
 "cells": [
  {
   "cell_type": "code",
   "execution_count": 14,
   "id": "7f0f7fef-c26d-4881-ace5-9b1ef9fc279f",
   "metadata": {
    "scrolled": true
   },
   "outputs": [],
   "source": [
    "import torch\n",
    "import numpy as np\n",
    "import matplotlib\n",
    "import matplotlib.pyplot as plt\n",
    "import sys\n",
    "import sklearn.model_selection\n",
    "import torch.nn\n",
    "\n",
    "from laplace import Laplace\n",
    "import matplotlib.colors as colors\n",
    "import seaborn as sns\n",
    "#import geomai.utils.geometry as geometry\n",
    "#from torch import nn\n",
    "#from manifold import cross_entropy_manifold, linearized_cross_entropy_manifold\n",
    "from torch.distributions import MultivariateNormal\n",
    "from tqdm import tqdm\n",
    "import sklearn.datasets\n",
    "#from datautils import make_pinwheel_data\n",
    "#from utils.metrics import accuracy, nll, brier, calibration\n",
    "from sklearn.metrics import brier_score_loss\n",
    "import argparse\n",
    "from torchmetrics.functional.classification import calibration_error\n",
    "from functorch import grad, jvp, make_functional, vjp, make_functional_with_buffers, hessian, jacfwd, jacrev, vmap\n",
    "from functorch_utils import get_params_structure, stack_gradient, custum_hvp, stack_gradient2\n",
    "import os\n",
    "\n",
    "palette = sns.color_palette(\"colorblind\")\n",
    "device = torch.device(\"cuda\" if torch.cuda.is_available() else \"cpu\")\n",
    "\n",
    "#batch_data = args.batch_data\n",
    "\n",
    "# run with several seeds\n",
    "#seed = args.seed\n",
    "seed = 0\n",
    "torch.manual_seed(seed)\n",
    "\n",
    "import torch_kfac\n"
   ]
  },
  {
   "cell_type": "code",
   "execution_count": 26,
   "id": "23204181",
   "metadata": {},
   "outputs": [],
   "source": [
    "def custum_hvp(f, primals, tangents, strict=False):\n",
    "    return jvp(grad(f), primals, tangents, strict=strict)"
   ]
  },
  {
   "cell_type": "code",
   "execution_count": 27,
   "id": "c801a189",
   "metadata": {
    "scrolled": true
   },
   "outputs": [
    {
     "name": "stdout",
     "output_type": "stream",
     "text": [
      "Function output: tensor([2., 6.], grad_fn=<AliasBackward0>)\n",
      "Hessian-vector product: tensor([2., 3.], grad_fn=<AddBackward0>)\n"
     ]
    }
   ],
   "source": [
    "# Define the quadratic function\n",
    "def quadratic_function(params):\n",
    "    A = torch.tensor([[2.0, 0.0], [0.0, 3.0]])  # Diagonal matrix\n",
    "    return 0.5 * params @ A @ params\n",
    "\n",
    "# Inputs (wrapped as tuples)\n",
    "primals = (torch.tensor([1.0, 2.0], requires_grad=True),)  # x\n",
    "tangents = (torch.tensor([1.0, 1.0]),)  # v\n",
    "\n",
    "# Test the HVP\n",
    "output, hvp = custum_hvp(quadratic_function, primals, tangents)\n",
    "print(\"Function output:\", output)  # Gradient of f\n",
    "print(\"Hessian-vector product:\", hvp)  # A @ v\n"
   ]
  },
  {
   "cell_type": "code",
   "execution_count": 28,
   "id": "3034cd79",
   "metadata": {},
   "outputs": [],
   "source": [
    "def get_activations(self, x):\n",
    "    activations = []\n",
    "    for layer in self.model.children():  # Assuming model is a sequential container\n",
    "        x = layer(x)\n",
    "        activations.append(x)\n",
    "    return activations\n"
   ]
  },
  {
   "cell_type": "code",
   "execution_count": 30,
   "id": "87585b8c",
   "metadata": {},
   "outputs": [],
   "source": [
    "def compute_fisher_information(self, gradients, data, num_samples=100):\n",
    "    \"\"\"\n",
    "    Compute Fisher Information matrix by approximating the expectation of the gradient outer product.\n",
    "\n",
    "    Args:\n",
    "        data: Input data used for computing gradients and activations.\n",
    "        num_samples: The number of samples over which to average the Fisher Information.\n",
    "    \n",
    "    Returns:\n",
    "        fisher_information: The Fisher Information matrix as a tensor.\n",
    "    \"\"\"\n",
    "    fisher_information = []\n",
    "              \n",
    "        # Get activations for each layer\n",
    "        activations = self.get_activations(x)\n",
    "\n",
    "        # For each layer, compute the outer product of gradients and activations\n",
    "        for layer_idx, (activation, grad) in enumerate(zip(activations, gradients)):\n",
    "            fisher_layer = torch.outer(grad.flatten(), activation.flatten())\n",
    "            fisher_information.append(fisher_layer)\n",
    "\n",
    "    # Average the Fisher Information matrix over all samples\n",
    "    fisher_information = sum(fisher_information) / num_samples\n",
    "    return fisher_information\n"
   ]
  },
  {
   "cell_type": "code",
   "execution_count": 31,
   "id": "03e23763",
   "metadata": {},
   "outputs": [],
   "source": [
    "def custum_hvp(f, primals, tangents, strict=False):\n",
    "    \"\"\"\n",
    "    Compute the Hessian-Vector Product (HVP) using the Fisher Information as an approximation of the Hessian.\n",
    "    \n",
    "    Args:\n",
    "        f: The loss function.\n",
    "        primals: The model parameters (primals) for the forward pass.\n",
    "        tangents: The direction vector (tangents) for the HVP.\n",
    "        strict: If True, strict checking will be done (optional).\n",
    "    \n",
    "    Returns:\n",
    "        hessian_vector_product: The Hessian-Vector Product for the loss function.\n",
    "    \"\"\"\n",
    "    # Compute the gradients of the loss (single computation)\n",
    "    grad_f = grad(f)(primals)\n",
    "\n",
    "    # Compute the Fisher Information Matrix (using precomputed gradients)\n",
    "    fisher_information = compute_fisher_information(self, grad_f, data)  # Now use grad_f\n",
    "\n",
    "    # Compute the HVP using the Fisher Information approximation\n",
    "    hvp = 0.0\n",
    "    for layer_grad, layer_fisher in zip(grad_f, fisher_information):\n",
    "        # Approximate the Hessian-Vector Product\n",
    "        hvp += (layer_fisher @ tangents[layer_grad])\n",
    "    \n",
    "    return hvp\n"
   ]
  },
  {
   "cell_type": "code",
   "execution_count": null,
   "id": "fcd16929",
   "metadata": {},
   "outputs": [],
   "source": []
  }
 ],
 "metadata": {
  "kernelspec": {
   "display_name": "Python 3 (ipykernel)",
   "language": "python",
   "name": "python3"
  },
  "language_info": {
   "codemirror_mode": {
    "name": "ipython",
    "version": 3
   },
   "file_extension": ".py",
   "mimetype": "text/x-python",
   "name": "python",
   "nbconvert_exporter": "python",
   "pygments_lexer": "ipython3",
   "version": "3.9.13"
  }
 },
 "nbformat": 4,
 "nbformat_minor": 5
}
